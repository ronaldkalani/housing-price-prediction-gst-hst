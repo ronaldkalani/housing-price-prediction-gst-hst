{
  "nbformat": 4,
  "nbformat_minor": 0,
  "metadata": {
    "colab": {
      "provenance": []
    },
    "kernelspec": {
      "name": "python3",
      "display_name": "Python 3"
    },
    "language_info": {
      "name": "python"
    }
  },
  "cells": [
    {
      "cell_type": "markdown",
      "source": [
        "**AI-Powered Housing Price Prediction with GST/HST Compliance Check: An End-to-End MLOps Pipeline Using Snowflake, Streamlit, and Conceptual AGI Integration**"
      ],
      "metadata": {
        "id": "f65z3T4WPtCM"
      }
    },
    {
      "cell_type": "markdown",
      "source": [
        "**Goal:**"
      ],
      "metadata": {
        "id": "77ICeBUkPzqL"
      }
    },
    {
      "cell_type": "markdown",
      "source": [
        "To develop a scalable, end-to-end machine learning pipeline for predicting house prices based on property features, with a built-in regulatory compliance check (GST/HST). The project also explores how future AGI systems could conceptually enhance model understanding, interpretation, and automation."
      ],
      "metadata": {
        "id": "65CCBKwwPs9b"
      }
    },
    {
      "cell_type": "markdown",
      "source": [
        "**Intended Audience:**"
      ],
      "metadata": {
        "id": "M17pK3mePs2A"
      }
    },
    {
      "cell_type": "markdown",
      "source": [
        "1. Data Scientists & ML Engineers\n",
        "\n",
        "2. MLOps Practitioners\n",
        "\n",
        "3. Government and Real Estate Regulators\n",
        "\n",
        "4. Tax Policy Analysts\n",
        "\n",
        "5. AI Ethics & AGI Researchers\n",
        "\n",
        "6. Cloud and Big Data Architects"
      ],
      "metadata": {
        "id": "iZ-L1vcCPsgt"
      }
    },
    {
      "cell_type": "markdown",
      "source": [
        "**Strategy & Pipeline Steps:**"
      ],
      "metadata": {
        "id": "DI7J_ykMQsgP"
      }
    },
    {
      "cell_type": "markdown",
      "source": [
        " **1. Load Kaggle train.csv → Snowflake**"
      ],
      "metadata": {
        "id": "GrTQGZ_NII0f"
      }
    },
    {
      "cell_type": "markdown",
      "source": [
        "Data Ingestion:\n",
        "\n",
        "Load train.csv housing dataset from Kaggle to Snowflake via Snowflake Connector."
      ],
      "metadata": {
        "id": "s1QikzysRQYb"
      }
    },
    {
      "source": [
        "# Install the snowflake-connector-python library\n",
        "!pip install snowflake-connector-python pandas\n",
        "\n",
        "import pandas as pd\n",
        "from snowflake.connector import connect\n",
        "from snowflake.connector.pandas_tools import write_pandas\n",
        "\n",
        "df = pd.read_csv(\"train.csv\")\n",
        "conn = connect(user=\"RONALDK\", password=\"PAuline1234567@\", account=\"sldawen-sl93056\",\n",
        "               warehouse=\"COMPUTE_WH\", database=\"HOUSING_DB\", schema=\"PUBLIC\")\n",
        "write_pandas(conn, df, table_name=\"HOUSE_PRICES_RAW\")"
      ],
      "cell_type": "code",
      "metadata": {
        "colab": {
          "base_uri": "https://localhost:8080/"
        },
        "id": "m3P-Z3CBITn6",
        "outputId": "cc1743f0-1d6e-4224-c2a3-d5f3b3f21f27"
      },
      "execution_count": null,
      "outputs": [
        {
          "output_type": "stream",
          "name": "stdout",
          "text": [
            "Requirement already satisfied: snowflake-connector-python in /usr/local/lib/python3.11/dist-packages (3.15.0)\n",
            "Requirement already satisfied: pandas in /usr/local/lib/python3.11/dist-packages (2.2.2)\n",
            "Requirement already satisfied: asn1crypto<2.0.0,>0.24.0 in /usr/local/lib/python3.11/dist-packages (from snowflake-connector-python) (1.5.1)\n",
            "Requirement already satisfied: boto3>=1.24 in /usr/local/lib/python3.11/dist-packages (from snowflake-connector-python) (1.38.23)\n",
            "Requirement already satisfied: botocore>=1.24 in /usr/local/lib/python3.11/dist-packages (from snowflake-connector-python) (1.38.23)\n",
            "Requirement already satisfied: cffi<2.0.0,>=1.9 in /usr/local/lib/python3.11/dist-packages (from snowflake-connector-python) (1.17.1)\n",
            "Requirement already satisfied: cryptography>=3.1.0 in /usr/local/lib/python3.11/dist-packages (from snowflake-connector-python) (43.0.3)\n",
            "Requirement already satisfied: pyOpenSSL<26.0.0,>=22.0.0 in /usr/local/lib/python3.11/dist-packages (from snowflake-connector-python) (24.2.1)\n",
            "Requirement already satisfied: pyjwt<3.0.0 in /usr/local/lib/python3.11/dist-packages (from snowflake-connector-python) (2.10.1)\n",
            "Requirement already satisfied: pytz in /usr/local/lib/python3.11/dist-packages (from snowflake-connector-python) (2025.2)\n",
            "Requirement already satisfied: requests<3.0.0 in /usr/local/lib/python3.11/dist-packages (from snowflake-connector-python) (2.32.3)\n",
            "Requirement already satisfied: packaging in /usr/local/lib/python3.11/dist-packages (from snowflake-connector-python) (24.2)\n",
            "Requirement already satisfied: charset_normalizer<4,>=2 in /usr/local/lib/python3.11/dist-packages (from snowflake-connector-python) (3.4.2)\n",
            "Requirement already satisfied: idna<4,>=2.5 in /usr/local/lib/python3.11/dist-packages (from snowflake-connector-python) (3.10)\n",
            "Requirement already satisfied: certifi>=2017.4.17 in /usr/local/lib/python3.11/dist-packages (from snowflake-connector-python) (2025.4.26)\n",
            "Requirement already satisfied: typing_extensions<5,>=4.3 in /usr/local/lib/python3.11/dist-packages (from snowflake-connector-python) (4.13.2)\n",
            "Requirement already satisfied: filelock<4,>=3.5 in /usr/local/lib/python3.11/dist-packages (from snowflake-connector-python) (3.18.0)\n",
            "Requirement already satisfied: sortedcontainers>=2.4.0 in /usr/local/lib/python3.11/dist-packages (from snowflake-connector-python) (2.4.0)\n",
            "Requirement already satisfied: platformdirs<5.0.0,>=2.6.0 in /usr/local/lib/python3.11/dist-packages (from snowflake-connector-python) (4.3.8)\n",
            "Requirement already satisfied: tomlkit in /usr/local/lib/python3.11/dist-packages (from snowflake-connector-python) (0.13.2)\n",
            "Requirement already satisfied: numpy>=1.23.2 in /usr/local/lib/python3.11/dist-packages (from pandas) (2.0.2)\n",
            "Requirement already satisfied: python-dateutil>=2.8.2 in /usr/local/lib/python3.11/dist-packages (from pandas) (2.9.0.post0)\n",
            "Requirement already satisfied: tzdata>=2022.7 in /usr/local/lib/python3.11/dist-packages (from pandas) (2025.2)\n",
            "Requirement already satisfied: jmespath<2.0.0,>=0.7.1 in /usr/local/lib/python3.11/dist-packages (from boto3>=1.24->snowflake-connector-python) (1.0.1)\n",
            "Requirement already satisfied: s3transfer<0.14.0,>=0.13.0 in /usr/local/lib/python3.11/dist-packages (from boto3>=1.24->snowflake-connector-python) (0.13.0)\n",
            "Requirement already satisfied: urllib3!=2.2.0,<3,>=1.25.4 in /usr/local/lib/python3.11/dist-packages (from botocore>=1.24->snowflake-connector-python) (2.4.0)\n",
            "Requirement already satisfied: pycparser in /usr/local/lib/python3.11/dist-packages (from cffi<2.0.0,>=1.9->snowflake-connector-python) (2.22)\n",
            "Requirement already satisfied: six>=1.5 in /usr/local/lib/python3.11/dist-packages (from python-dateutil>=2.8.2->pandas) (1.17.0)\n"
          ]
        },
        {
          "output_type": "execute_result",
          "data": {
            "text/plain": [
              "(True,\n",
              " 1,\n",
              " 1460,\n",
              " [('ghiroiywsk/file0.txt',\n",
              "   'LOADED',\n",
              "   1460,\n",
              "   1460,\n",
              "   1,\n",
              "   0,\n",
              "   None,\n",
              "   None,\n",
              "   None,\n",
              "   None)])"
            ]
          },
          "metadata": {},
          "execution_count": 6
        }
      ]
    },
    {
      "cell_type": "markdown",
      "source": [
        "**2. Preprocess in Snowflake (Filter NAs)**"
      ],
      "metadata": {
        "id": "7AqGOa_SIqKt"
      }
    },
    {
      "cell_type": "markdown",
      "source": [
        "Data Cleaning & Transformation:\n",
        "\n",
        "Use Snowflake Snowpark to clean data (filter NAs in SalePrice, GrLivArea, LotArea, and OverallQual) and store it as HOUSE_PRICES_CLEAN."
      ],
      "metadata": {
        "id": "GlHBP129RU3X"
      }
    },
    {
      "source": [
        "# Install the required libraries\n",
        "!pip install snowflake-connector-python pandas snowflake-snowpark-python\n",
        "\n",
        "import pandas as pd\n",
        "from snowflake.connector import connect\n",
        "from snowflake.connector.pandas_tools import write_pandas\n",
        "\n",
        "# Your existing code to load data into Snowflake using snowflake-connector-python\n",
        "df = pd.read_csv(\"train.csv\")\n",
        "conn = connect(user=\"RONALDK\", password=\"PAuline1234567@\", account=\"sldawen-sl93056\",\n",
        "               warehouse=\"COMPUTE_WH\", database=\"HOUSING_DB\", schema=\"PUBLIC\")\n",
        "write_pandas(conn, df, table_name=\"HOUSE_PRICES_RAW\")\n",
        "\n",
        "# Your existing code using snowflake.snowpark should now work\n",
        "from snowflake.snowpark import Session\n",
        "from snowflake.snowpark.functions import col\n",
        "\n",
        "session = Session.builder.configs({\n",
        "    \"account\": \"sldawen-sl93056\", \"user\": \"RONALDK\", \"password\": \"PAuline1234567@\",\n",
        "    \"warehouse\": \"COMPUTE_WH\", \"database\": \"HOUSING_DB\", \"schema\": \"PUBLIC\", \"role\": \"ACCOUNTADMIN\"\n",
        "}).create()\n",
        "\n",
        "df = session.table(\"HOUSE_PRICES_RAW\")\n",
        "df.filter((col('\"SalePrice\"').is_not_null()) &\n",
        "          (col('\"GrLivArea\"').is_not_null()) &\n",
        "          (col('\"LotArea\"').is_not_null()) &\n",
        "          (col('\"OverallQual\"').is_not_null())) \\\n",
        "  .write.save_as_table(\"HOUSE_PRICES_CLEAN\", mode=\"overwrite\")"
      ],
      "cell_type": "code",
      "metadata": {
        "colab": {
          "base_uri": "https://localhost:8080/"
        },
        "id": "aZb_Y7-3I2Mx",
        "outputId": "bc26f5a0-52e1-4db7-c414-efb5f89a4131"
      },
      "execution_count": null,
      "outputs": [
        {
          "output_type": "stream",
          "name": "stdout",
          "text": [
            "Requirement already satisfied: snowflake-connector-python in /usr/local/lib/python3.11/dist-packages (3.15.0)\n",
            "Requirement already satisfied: pandas in /usr/local/lib/python3.11/dist-packages (2.2.2)\n",
            "Requirement already satisfied: snowflake-snowpark-python in /usr/local/lib/python3.11/dist-packages (1.32.0)\n",
            "Requirement already satisfied: asn1crypto<2.0.0,>0.24.0 in /usr/local/lib/python3.11/dist-packages (from snowflake-connector-python) (1.5.1)\n",
            "Requirement already satisfied: boto3>=1.24 in /usr/local/lib/python3.11/dist-packages (from snowflake-connector-python) (1.38.23)\n",
            "Requirement already satisfied: botocore>=1.24 in /usr/local/lib/python3.11/dist-packages (from snowflake-connector-python) (1.38.23)\n",
            "Requirement already satisfied: cffi<2.0.0,>=1.9 in /usr/local/lib/python3.11/dist-packages (from snowflake-connector-python) (1.17.1)\n",
            "Requirement already satisfied: cryptography>=3.1.0 in /usr/local/lib/python3.11/dist-packages (from snowflake-connector-python) (43.0.3)\n",
            "Requirement already satisfied: pyOpenSSL<26.0.0,>=22.0.0 in /usr/local/lib/python3.11/dist-packages (from snowflake-connector-python) (24.2.1)\n",
            "Requirement already satisfied: pyjwt<3.0.0 in /usr/local/lib/python3.11/dist-packages (from snowflake-connector-python) (2.10.1)\n",
            "Requirement already satisfied: pytz in /usr/local/lib/python3.11/dist-packages (from snowflake-connector-python) (2025.2)\n",
            "Requirement already satisfied: requests<3.0.0 in /usr/local/lib/python3.11/dist-packages (from snowflake-connector-python) (2.32.3)\n",
            "Requirement already satisfied: packaging in /usr/local/lib/python3.11/dist-packages (from snowflake-connector-python) (24.2)\n",
            "Requirement already satisfied: charset_normalizer<4,>=2 in /usr/local/lib/python3.11/dist-packages (from snowflake-connector-python) (3.4.2)\n",
            "Requirement already satisfied: idna<4,>=2.5 in /usr/local/lib/python3.11/dist-packages (from snowflake-connector-python) (3.10)\n",
            "Requirement already satisfied: certifi>=2017.4.17 in /usr/local/lib/python3.11/dist-packages (from snowflake-connector-python) (2025.4.26)\n",
            "Requirement already satisfied: typing_extensions<5,>=4.3 in /usr/local/lib/python3.11/dist-packages (from snowflake-connector-python) (4.13.2)\n",
            "Requirement already satisfied: filelock<4,>=3.5 in /usr/local/lib/python3.11/dist-packages (from snowflake-connector-python) (3.18.0)\n",
            "Requirement already satisfied: sortedcontainers>=2.4.0 in /usr/local/lib/python3.11/dist-packages (from snowflake-connector-python) (2.4.0)\n",
            "Requirement already satisfied: platformdirs<5.0.0,>=2.6.0 in /usr/local/lib/python3.11/dist-packages (from snowflake-connector-python) (4.3.8)\n",
            "Requirement already satisfied: tomlkit in /usr/local/lib/python3.11/dist-packages (from snowflake-connector-python) (0.13.2)\n",
            "Requirement already satisfied: numpy>=1.23.2 in /usr/local/lib/python3.11/dist-packages (from pandas) (2.0.2)\n",
            "Requirement already satisfied: python-dateutil>=2.8.2 in /usr/local/lib/python3.11/dist-packages (from pandas) (2.9.0.post0)\n",
            "Requirement already satisfied: tzdata>=2022.7 in /usr/local/lib/python3.11/dist-packages (from pandas) (2025.2)\n",
            "Requirement already satisfied: setuptools>=40.6.0 in /usr/local/lib/python3.11/dist-packages (from snowflake-snowpark-python) (75.2.0)\n",
            "Requirement already satisfied: wheel in /usr/local/lib/python3.11/dist-packages (from snowflake-snowpark-python) (0.45.1)\n",
            "Requirement already satisfied: pyyaml in /usr/local/lib/python3.11/dist-packages (from snowflake-snowpark-python) (6.0.2)\n",
            "Requirement already satisfied: cloudpickle!=2.1.0,!=2.2.0,<=3.0.0,>=1.6.0 in /usr/local/lib/python3.11/dist-packages (from snowflake-snowpark-python) (3.0.0)\n",
            "Requirement already satisfied: protobuf<6,>=3.20 in /usr/local/lib/python3.11/dist-packages (from snowflake-snowpark-python) (5.29.4)\n",
            "Requirement already satisfied: tzlocal in /usr/local/lib/python3.11/dist-packages (from snowflake-snowpark-python) (5.3.1)\n",
            "Requirement already satisfied: jmespath<2.0.0,>=0.7.1 in /usr/local/lib/python3.11/dist-packages (from boto3>=1.24->snowflake-connector-python) (1.0.1)\n",
            "Requirement already satisfied: s3transfer<0.14.0,>=0.13.0 in /usr/local/lib/python3.11/dist-packages (from boto3>=1.24->snowflake-connector-python) (0.13.0)\n",
            "Requirement already satisfied: urllib3!=2.2.0,<3,>=1.25.4 in /usr/local/lib/python3.11/dist-packages (from botocore>=1.24->snowflake-connector-python) (2.4.0)\n",
            "Requirement already satisfied: pycparser in /usr/local/lib/python3.11/dist-packages (from cffi<2.0.0,>=1.9->snowflake-connector-python) (2.22)\n",
            "Requirement already satisfied: six>=1.5 in /usr/local/lib/python3.11/dist-packages (from python-dateutil>=2.8.2->pandas) (1.17.0)\n"
          ]
        }
      ]
    },
    {
      "cell_type": "markdown",
      "source": [
        "** 3. Export Cleaned Data to Local CSV**"
      ],
      "metadata": {
        "id": "5GXcYTOxJEMl"
      }
    },
    {
      "cell_type": "markdown",
      "source": [
        "Data Export:\n",
        "\n",
        "Export clean data to local CSV (cleaned_house_prices.csv)."
      ],
      "metadata": {
        "id": "1upTakTrRb8u"
      }
    },
    {
      "cell_type": "code",
      "source": [
        "df_clean = session.table(\"HOUSE_PRICES_CLEAN\").to_pandas()\n",
        "df_clean.to_csv(\"cleaned_house_prices.csv\", index=False)\n"
      ],
      "metadata": {
        "id": "aAynXw4MJJN9"
      },
      "execution_count": null,
      "outputs": []
    },
    {
      "cell_type": "markdown",
      "source": [
        "**4. Train Model Locally**"
      ],
      "metadata": {
        "id": "B7rv_plIJTId"
      }
    },
    {
      "cell_type": "markdown",
      "source": [
        "Model Training (Local):\n",
        "\n",
        "Use Scikit-learn’s RandomForestRegressor on selected features.\n",
        "\n",
        "Train/test split and save the model using joblib."
      ],
      "metadata": {
        "id": "KE1UK9ieRjn_"
      }
    },
    {
      "cell_type": "code",
      "source": [
        "from sklearn.ensemble import RandomForestRegressor\n",
        "from sklearn.model_selection import train_test_split\n",
        "import joblib, pandas as pd\n",
        "\n",
        "df = pd.read_csv(\"cleaned_house_prices.csv\")\n",
        "X = df[[\"GrLivArea\", \"LotArea\", \"OverallQual\"]]\n",
        "y = df[\"SalePrice\"]\n",
        "\n",
        "X_train, X_test, y_train, y_test = train_test_split(X, y, test_size=0.2)\n",
        "model = RandomForestRegressor(n_estimators=100).fit(X_train, y_train)\n",
        "joblib.dump(model, \"model.joblib\")\n"
      ],
      "metadata": {
        "colab": {
          "base_uri": "https://localhost:8080/"
        },
        "id": "s49oOIFYJZC5",
        "outputId": "f513b435-c24a-4a8c-b8c6-022a33e786b5"
      },
      "execution_count": null,
      "outputs": [
        {
          "output_type": "execute_result",
          "data": {
            "text/plain": [
              "['model.joblib']"
            ]
          },
          "metadata": {},
          "execution_count": 9
        }
      ]
    },
    {
      "cell_type": "markdown",
      "source": [
        "**5. Streamlit App with GST/HST Logic (app.py)**"
      ],
      "metadata": {
        "id": "q9LLovxlJiU1"
      }
    },
    {
      "cell_type": "markdown",
      "source": [
        "Deployment (Streamlit):\n",
        "\n",
        "Build an interactive web app that:\n",
        "\n",
        "Takes user input (GrLivArea, LotArea, OverallQual)\n",
        "\n",
        "Predicts house price\n",
        "\n",
        "Flags GST/HST if price exceeds $1,000,000 CAD."
      ],
      "metadata": {
        "id": "Jo9uvkhTRq1F"
      }
    },
    {
      "source": [
        "!pip install streamlit\n",
        "import streamlit as st, joblib, numpy as np\n",
        "\n",
        "model = joblib.load(\"model.joblib\")\n",
        "st.title(\" House Price Predictor + GST/HST Checker\")\n",
        "\n",
        "area = st.number_input(\"GrLivArea\", 1200)\n",
        "lot = st.number_input(\"LotArea\", 5000)\n",
        "qual = st.slider(\"OverallQual\", 1, 10, 5)\n",
        "\n",
        "if st.button(\"Predict\"):\n",
        "    price = model.predict(np.array([[area, lot, qual]]))[0]\n",
        "    st.success(f\" Estimated Price: ${price:,.2f}\")\n",
        "    st.info(\" No GST/HST\") if price < 1_000_000 else st.warning(\"🔴 GST/HST May Apply\")"
      ],
      "cell_type": "code",
      "metadata": {
        "colab": {
          "base_uri": "https://localhost:8080/"
        },
        "id": "uQ85remtJ3BZ",
        "outputId": "24cfe178-b006-45ad-e6a4-be172c99b6a0"
      },
      "execution_count": null,
      "outputs": [
        {
          "output_type": "stream",
          "name": "stdout",
          "text": [
            "Requirement already satisfied: streamlit in /usr/local/lib/python3.11/dist-packages (1.45.1)\n",
            "Requirement already satisfied: altair<6,>=4.0 in /usr/local/lib/python3.11/dist-packages (from streamlit) (5.5.0)\n",
            "Requirement already satisfied: blinker<2,>=1.5.0 in /usr/local/lib/python3.11/dist-packages (from streamlit) (1.9.0)\n",
            "Requirement already satisfied: cachetools<6,>=4.0 in /usr/local/lib/python3.11/dist-packages (from streamlit) (5.5.2)\n",
            "Requirement already satisfied: click<9,>=7.0 in /usr/local/lib/python3.11/dist-packages (from streamlit) (8.2.0)\n",
            "Requirement already satisfied: numpy<3,>=1.23 in /usr/local/lib/python3.11/dist-packages (from streamlit) (2.0.2)\n",
            "Requirement already satisfied: packaging<25,>=20 in /usr/local/lib/python3.11/dist-packages (from streamlit) (24.2)\n",
            "Requirement already satisfied: pandas<3,>=1.4.0 in /usr/local/lib/python3.11/dist-packages (from streamlit) (2.2.2)\n",
            "Requirement already satisfied: pillow<12,>=7.1.0 in /usr/local/lib/python3.11/dist-packages (from streamlit) (11.2.1)\n",
            "Requirement already satisfied: protobuf<7,>=3.20 in /usr/local/lib/python3.11/dist-packages (from streamlit) (5.29.4)\n",
            "Requirement already satisfied: pyarrow>=7.0 in /usr/local/lib/python3.11/dist-packages (from streamlit) (18.1.0)\n",
            "Requirement already satisfied: requests<3,>=2.27 in /usr/local/lib/python3.11/dist-packages (from streamlit) (2.32.3)\n",
            "Requirement already satisfied: tenacity<10,>=8.1.0 in /usr/local/lib/python3.11/dist-packages (from streamlit) (9.1.2)\n",
            "Requirement already satisfied: toml<2,>=0.10.1 in /usr/local/lib/python3.11/dist-packages (from streamlit) (0.10.2)\n",
            "Requirement already satisfied: typing-extensions<5,>=4.4.0 in /usr/local/lib/python3.11/dist-packages (from streamlit) (4.13.2)\n",
            "Requirement already satisfied: watchdog<7,>=2.1.5 in /usr/local/lib/python3.11/dist-packages (from streamlit) (6.0.0)\n",
            "Requirement already satisfied: gitpython!=3.1.19,<4,>=3.0.7 in /usr/local/lib/python3.11/dist-packages (from streamlit) (3.1.44)\n",
            "Requirement already satisfied: pydeck<1,>=0.8.0b4 in /usr/local/lib/python3.11/dist-packages (from streamlit) (0.9.1)\n",
            "Requirement already satisfied: tornado<7,>=6.0.3 in /usr/local/lib/python3.11/dist-packages (from streamlit) (6.4.2)\n",
            "Requirement already satisfied: jinja2 in /usr/local/lib/python3.11/dist-packages (from altair<6,>=4.0->streamlit) (3.1.6)\n",
            "Requirement already satisfied: jsonschema>=3.0 in /usr/local/lib/python3.11/dist-packages (from altair<6,>=4.0->streamlit) (4.23.0)\n",
            "Requirement already satisfied: narwhals>=1.14.2 in /usr/local/lib/python3.11/dist-packages (from altair<6,>=4.0->streamlit) (1.39.0)\n",
            "Requirement already satisfied: gitdb<5,>=4.0.1 in /usr/local/lib/python3.11/dist-packages (from gitpython!=3.1.19,<4,>=3.0.7->streamlit) (4.0.12)\n",
            "Requirement already satisfied: python-dateutil>=2.8.2 in /usr/local/lib/python3.11/dist-packages (from pandas<3,>=1.4.0->streamlit) (2.9.0.post0)\n",
            "Requirement already satisfied: pytz>=2020.1 in /usr/local/lib/python3.11/dist-packages (from pandas<3,>=1.4.0->streamlit) (2025.2)\n",
            "Requirement already satisfied: tzdata>=2022.7 in /usr/local/lib/python3.11/dist-packages (from pandas<3,>=1.4.0->streamlit) (2025.2)\n",
            "Requirement already satisfied: charset-normalizer<4,>=2 in /usr/local/lib/python3.11/dist-packages (from requests<3,>=2.27->streamlit) (3.4.2)\n",
            "Requirement already satisfied: idna<4,>=2.5 in /usr/local/lib/python3.11/dist-packages (from requests<3,>=2.27->streamlit) (3.10)\n",
            "Requirement already satisfied: urllib3<3,>=1.21.1 in /usr/local/lib/python3.11/dist-packages (from requests<3,>=2.27->streamlit) (2.4.0)\n",
            "Requirement already satisfied: certifi>=2017.4.17 in /usr/local/lib/python3.11/dist-packages (from requests<3,>=2.27->streamlit) (2025.4.26)\n",
            "Requirement already satisfied: smmap<6,>=3.0.1 in /usr/local/lib/python3.11/dist-packages (from gitdb<5,>=4.0.1->gitpython!=3.1.19,<4,>=3.0.7->streamlit) (5.0.2)\n",
            "Requirement already satisfied: MarkupSafe>=2.0 in /usr/local/lib/python3.11/dist-packages (from jinja2->altair<6,>=4.0->streamlit) (3.0.2)\n",
            "Requirement already satisfied: attrs>=22.2.0 in /usr/local/lib/python3.11/dist-packages (from jsonschema>=3.0->altair<6,>=4.0->streamlit) (25.3.0)\n",
            "Requirement already satisfied: jsonschema-specifications>=2023.03.6 in /usr/local/lib/python3.11/dist-packages (from jsonschema>=3.0->altair<6,>=4.0->streamlit) (2025.4.1)\n",
            "Requirement already satisfied: referencing>=0.28.4 in /usr/local/lib/python3.11/dist-packages (from jsonschema>=3.0->altair<6,>=4.0->streamlit) (0.36.2)\n",
            "Requirement already satisfied: rpds-py>=0.7.1 in /usr/local/lib/python3.11/dist-packages (from jsonschema>=3.0->altair<6,>=4.0->streamlit) (0.24.0)\n",
            "Requirement already satisfied: six>=1.5 in /usr/local/lib/python3.11/dist-packages (from python-dateutil>=2.8.2->pandas<3,>=1.4.0->streamlit) (1.17.0)\n"
          ]
        },
        {
          "output_type": "stream",
          "name": "stderr",
          "text": [
            "2025-05-24 02:50:22.958 Thread 'MainThread': missing ScriptRunContext! This warning can be ignored when running in bare mode.\n",
            "2025-05-24 02:50:22.959 Thread 'MainThread': missing ScriptRunContext! This warning can be ignored when running in bare mode.\n",
            "2025-05-24 02:50:22.960 Thread 'MainThread': missing ScriptRunContext! This warning can be ignored when running in bare mode.\n",
            "2025-05-24 02:50:22.962 Thread 'MainThread': missing ScriptRunContext! This warning can be ignored when running in bare mode.\n",
            "2025-05-24 02:50:22.963 Thread 'MainThread': missing ScriptRunContext! This warning can be ignored when running in bare mode.\n",
            "2025-05-24 02:50:22.964 Thread 'MainThread': missing ScriptRunContext! This warning can be ignored when running in bare mode.\n",
            "2025-05-24 02:50:22.967 Thread 'MainThread': missing ScriptRunContext! This warning can be ignored when running in bare mode.\n",
            "2025-05-24 02:50:22.968 Thread 'MainThread': missing ScriptRunContext! This warning can be ignored when running in bare mode.\n",
            "2025-05-24 02:50:22.970 Thread 'MainThread': missing ScriptRunContext! This warning can be ignored when running in bare mode.\n",
            "2025-05-24 02:50:22.972 Thread 'MainThread': missing ScriptRunContext! This warning can be ignored when running in bare mode.\n",
            "2025-05-24 02:50:22.974 Thread 'MainThread': missing ScriptRunContext! This warning can be ignored when running in bare mode.\n",
            "2025-05-24 02:50:22.975 Thread 'MainThread': missing ScriptRunContext! This warning can be ignored when running in bare mode.\n",
            "2025-05-24 02:50:22.976 Thread 'MainThread': missing ScriptRunContext! This warning can be ignored when running in bare mode.\n",
            "2025-05-24 02:50:22.977 Thread 'MainThread': missing ScriptRunContext! This warning can be ignored when running in bare mode.\n",
            "2025-05-24 02:50:22.978 Thread 'MainThread': missing ScriptRunContext! This warning can be ignored when running in bare mode.\n",
            "2025-05-24 02:50:22.979 Thread 'MainThread': missing ScriptRunContext! This warning can be ignored when running in bare mode.\n",
            "2025-05-24 02:50:22.979 Thread 'MainThread': missing ScriptRunContext! This warning can be ignored when running in bare mode.\n",
            "2025-05-24 02:50:22.980 Thread 'MainThread': missing ScriptRunContext! This warning can be ignored when running in bare mode.\n",
            "2025-05-24 02:50:22.981 Thread 'MainThread': missing ScriptRunContext! This warning can be ignored when running in bare mode.\n",
            "2025-05-24 02:50:22.983 Thread 'MainThread': missing ScriptRunContext! This warning can be ignored when running in bare mode.\n",
            "2025-05-24 02:50:22.984 Thread 'MainThread': missing ScriptRunContext! This warning can be ignored when running in bare mode.\n",
            "2025-05-24 02:50:22.984 Thread 'MainThread': missing ScriptRunContext! This warning can be ignored when running in bare mode.\n",
            "2025-05-24 02:50:22.986 Thread 'MainThread': missing ScriptRunContext! This warning can be ignored when running in bare mode.\n",
            "2025-05-24 02:50:22.987 Thread 'MainThread': missing ScriptRunContext! This warning can be ignored when running in bare mode.\n"
          ]
        }
      ]
    },
    {
      "cell_type": "markdown",
      "source": [
        "**Challenges:**\n",
        "\n",
        "- Data Privacy and Compliance: Ensuring data movement across Snowflake, local storage, and app layers does not breach any governance policies.\n",
        "\n",
        "- Cloud Integration Complexity: Smooth integration of Snowflake with local ML model training and app UI can be fragile.\n",
        "\n",
        "- Regulatory Interpretation: Encoding real-world tax logic (like GST/HST thresholds) requires ongoing legal alignment.\n",
        "\n",
        "- AGI Interpretation: Conceptualizing AGI's role is speculative and abstract—requires philosophical and technical foresight."
      ],
      "metadata": {
        "id": "6j2ww1I6Ryib"
      }
    },
    {
      "cell_type": "markdown",
      "source": [
        "**Problem Statement:**\n",
        "\n",
        "Housing prices in Canada are influenced by various physical and qualitative property features. Accurate predictions of sale price are essential not only for buyers and sellers but also for determining applicable taxes (e.g., GST/HST). Current systems lack integration between data pipelines, model interfaces, and compliance checks."
      ],
      "metadata": {
        "id": "bMFayJOOSId3"
      }
    },
    {
      "cell_type": "markdown",
      "source": [
        "**Dataset:**\n",
        "\n",
        "Source: Kaggle – House Prices: Advanced Regression Techniques\n",
        "File Used: train.csv\n",
        "Fields Used:\n",
        "\n",
        "- GrLivArea (Above-ground living area)\n",
        "\n",
        "- LotArea (Lot size)\n",
        "\n",
        "- OverallQual (Overall material and finish quality)\n",
        "\n",
        "- SalePrice (Target)\n",
        "\n"
      ],
      "metadata": {
        "id": "te8srC0CSTTH"
      }
    },
    {
      "cell_type": "markdown",
      "source": [
        "**Machine Learning Prediction & Outcomes:**\n",
        "\n",
        "- Model Used: Random Forest Regressor (Scikit-learn)\n",
        "\n",
        "- Outcome: House price prediction with GST/HST threshold alert\n",
        "\n",
        "- UI Layer: Streamlit App displaying predicted price and tax flag\n",
        "\n",
        "- Model Output Example:\n",
        "\n",
        "     - Input: GrLivArea = 1500, LotArea = 5000, OverallQual = 7\n",
        "\n",
        "     - Output: Estimated Price = $875,000 → No GST/HST\n",
        "\n",
        "     - Input: GrLivArea = 2800, LotArea = 10000, OverallQual = 10\n",
        "\n",
        "     - Output: Estimated Price = $1,250,000 → 🔴 GST/HST May Apply\n",
        "\n"
      ],
      "metadata": {
        "id": "CdhwUZ0dSdWn"
      }
    },
    {
      "cell_type": "markdown",
      "source": [
        "**Trailer Documentation:**\n",
        "\n",
        "- Data Source Tracking: Kaggle download → Snowflake load timestamp\n",
        "\n",
        "- ETL Versioning: Cleaned table named HOUSE_PRICES_CLEAN with overwrite logs\n",
        "\n",
        "- Model Versioning: model.joblib tagged with timestamp and hash\n",
        "\n",
        "- Audit Notes: All pipeline steps documented in logs and commit history\n",
        "\n"
      ],
      "metadata": {
        "id": "Qfkn1cV5S1g7"
      }
    },
    {
      "cell_type": "markdown",
      "source": [
        "**Conceptual Enhancement – AGI (Artificial General Intelligence):**\n",
        "\n",
        "If AGI were integrated, it could:\n",
        "\n",
        "- Autonomously explore legal updates to taxation laws and update Streamlit logic accordingly.\n",
        "\n",
        "- Generate rationales for each price estimate by querying multimodal real estate data (e.g., satellite images, property age, neighborhood reputation).\n",
        "\n",
        "- Conduct continuous learning from new property sales to improve prediction models in real time.\n",
        "\n",
        "- Interact with users through natural language explanations (e.g., “This property is priced above market average due to premium lot size and build quality.”)\n",
        "\n"
      ],
      "metadata": {
        "id": "6_3FkndHTA_u"
      }
    }
  ]
}